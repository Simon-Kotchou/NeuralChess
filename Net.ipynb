{
 "cells": [
  {
   "cell_type": "code",
   "execution_count": 11,
   "metadata": {},
   "outputs": [],
   "source": [
    "import numpy as np\n",
    "import torch\n",
    "import torch.nn as nn\n",
    "import torch.nn.functional as F\n",
    "from torch.utils.data import Dataset\n",
    "from torch import optim"
   ]
  },
  {
   "cell_type": "code",
   "execution_count": 12,
   "metadata": {},
   "outputs": [],
   "source": [
    "class ChessValueDataset(Dataset):\n",
    "    def __init__(self):\n",
    "        dat = np.load(\"GameData/dataset_5MBoards.npz\")\n",
    "        self.X = dat['arr_0']\n",
    "        self.Y = dat['arr_1']\n",
    "        print(\"loaded\", self.X.shape, self.Y.shape)\n",
    "\n",
    "    def __len__(self):\n",
    "        return self.X.shape[0]\n",
    "\n",
    "    def __getitem__(self, idx):\n",
    "        return (self.X[idx], self.Y[idx])"
   ]
  },
  {
   "cell_type": "code",
   "execution_count": 13,
   "metadata": {},
   "outputs": [],
   "source": [
    "class Net(nn.Module):\n",
    "    \n",
    "    def __init__(self):\n",
    "        super(Net, self).__init__()\n",
    "        self.a1 = nn.Conv2d(5, 16, kernel_size=3, padding=1)\n",
    "        self.a2 = nn.Conv2d(16, 16, kernel_size=3, padding=1)\n",
    "        self.a3 = nn.Conv2d(16, 32, kernel_size=3, stride=2)\n",
    "\n",
    "        self.b1 = nn.Conv2d(32, 32, kernel_size=3, padding=1)\n",
    "        self.b2 = nn.Conv2d(32, 32, kernel_size=3, padding=1)\n",
    "        self.b3 = nn.Conv2d(32, 64, kernel_size=3, stride=2)\n",
    "\n",
    "        self.c1 = nn.Conv2d(64, 64, kernel_size=2, padding=1)\n",
    "        self.c2 = nn.Conv2d(64, 64, kernel_size=2, padding=1)\n",
    "        self.c3 = nn.Conv2d(64, 128, kernel_size=2, stride=2)\n",
    "\n",
    "        self.d1 = nn.Conv2d(128, 128, kernel_size=1)\n",
    "        self.d2 = nn.Conv2d(128, 128, kernel_size=1)\n",
    "        self.d3 = nn.Conv2d(128, 128, kernel_size=1)\n",
    "\n",
    "        self.last = nn.Linear(128, 1)\n",
    "\n",
    "    def forward(self, x):\n",
    "        x = F.relu(self.a1(x))\n",
    "        x = F.relu(self.a2(x))\n",
    "        x = F.relu(self.a3(x))\n",
    "\n",
    "        # 4x4\n",
    "        x = F.relu(self.b1(x))\n",
    "        x = F.relu(self.b2(x))\n",
    "        x = F.relu(self.b3(x))\n",
    "\n",
    "        # 2x2\n",
    "        x = F.relu(self.c1(x))\n",
    "        x = F.relu(self.c2(x))\n",
    "        x = F.relu(self.c3(x))\n",
    "\n",
    "        # 1x128\n",
    "        x = F.relu(self.d1(x))\n",
    "        x = F.relu(self.d2(x))\n",
    "        x = F.relu(self.d3(x))\n",
    "\n",
    "        x = x.view(-1, 128)\n",
    "        x = self.last(x)\n",
    "\n",
    "        # value output\n",
    "        return F.tanh(x)"
   ]
  },
  {
   "cell_type": "code",
   "execution_count": null,
   "metadata": {},
   "outputs": [
    {
     "name": "stdout",
     "output_type": "stream",
     "text": [
      "loaded (4238782, 5, 8, 8) (4238782,)\n",
      "0\n",
      "1\n",
      "2\n",
      "3\n",
      "4\n",
      "5\n",
      "6\n",
      "7\n",
      "8\n",
      "9\n",
      "10\n",
      "11\n"
     ]
    }
   ],
   "source": [
    "if __name__ == \"__main__\":\n",
    "    device = \"cuda\" if torch.cuda.is_available() else \"cpu\"\n",
    "\n",
    "    chess_dataset = ChessValueDataset()\n",
    "    train_loader = torch.utils.data.DataLoader(chess_dataset, batch_size=256, shuffle=True)\n",
    "    model = Net()\n",
    "    optimizer = optim.Adam(model.parameters())\n",
    "    floss = nn.MSELoss()\n",
    "\n",
    "    if device == \"cuda\":\n",
    "        model.cuda()\n",
    "\n",
    "    model.train()\n",
    "\n",
    "    for epoch in range(20):\n",
    "        print(epoch)\n",
    "        all_loss = 0\n",
    "        num_loss = 0\n",
    "        for batch_idx, (data, target) in enumerate(train_loader):\n",
    "            target = target.unsqueeze(-1)\n",
    "            data, target = data.to(device), target.to(device)\n",
    "            data = data.float()\n",
    "            target = target.float()\n",
    "\n",
    "            optimizer.zero_grad()\n",
    "            output = model(data)\n",
    "\n",
    "            loss = floss(output, target)\n",
    "            loss.backward()\n",
    "            optimizer.step()\n",
    "\n",
    "            all_loss += loss.item()\n",
    "            num_loss += 1\n",
    "\n",
    "    print(\"%3d: %f\" % (epoch, all_loss/num_loss))\n",
    "    torch.save(model.state_dict(), \"Nets/value.pth\")"
   ]
  },
  {
   "cell_type": "code",
   "execution_count": null,
   "metadata": {},
   "outputs": [],
   "source": []
  }
 ],
 "metadata": {
  "kernelspec": {
   "display_name": "Python 3",
   "language": "python",
   "name": "python3"
  },
  "language_info": {
   "codemirror_mode": {
    "name": "ipython",
    "version": 3
   },
   "file_extension": ".py",
   "mimetype": "text/x-python",
   "name": "python",
   "nbconvert_exporter": "python",
   "pygments_lexer": "ipython3",
   "version": "3.7.3"
  }
 },
 "nbformat": 4,
 "nbformat_minor": 2
}
