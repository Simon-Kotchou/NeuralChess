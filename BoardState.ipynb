{
 "cells": [
  {
   "cell_type": "code",
   "execution_count": 39,
   "metadata": {},
   "outputs": [],
   "source": [
    "import chess\n",
    "import numpy as np"
   ]
  },
  {
   "cell_type": "code",
   "execution_count": 40,
   "metadata": {},
   "outputs": [],
   "source": [
    "class StateBoard():\n",
    "    \n",
    "    def __init__(self, board=None):\n",
    "        \n",
    "        if board is None:\n",
    "            self.board = chess.Board()\n",
    "        else:\n",
    "            self.board = board\n",
    "            \n",
    "        self.BOARD_SIZE = 64\n",
    "        \n",
    "        self.serial_vals = {'P': 1, 'N': 2, 'B': 3, 'R': 4, 'Q': 5, 'K': 6,\n",
    "                       'p': 11, 'n': 12, 'b': 13, 'r': 14, 'q': 16, 'k': 17}\n",
    "        \n",
    "    def serialize(self):\n",
    "        \n",
    "        assert self.board.is_valid() == True\n",
    "        \n",
    "        state = np.zeros(self.BOARD_SIZE,dtype=np.uint8)\n",
    "        \n",
    "        for i in range(self.BOARD_SIZE):\n",
    "            \n",
    "            aPiece = self.board.piece_at(i)\n",
    "            \n",
    "            if aPiece is not None:\n",
    "                \n",
    "                state[i] = self.serial_vals[aPiece.symbol()]\n",
    "                \n",
    "        if self.board.has_kingside_castling_rights(chess.WHITE):\n",
    "            assert state[chess.H1] == self.serial_vals['R']\n",
    "            state[chess.H1] == 28\n",
    "        if self.board.has_queenside_castling_rights(chess.WHITE):\n",
    "            assert state[chess.A1] == self.serial_vals['R']\n",
    "            state[chess.A1] = 21\n",
    "        if self.board.has_kingside_castling_rights(chess.BLACK):\n",
    "            assert state[chess.H8] == self.serial_vals['r']\n",
    "            state[chess.H8] = 38\n",
    "        if self.board.has_queenside_castling_rights(chess.BLACK):\n",
    "            assert state[chess.A8] == self.serial_vals['r']\n",
    "            state[chess.H8] = 31\n",
    "        \n",
    "        if self.board.ep_square is not None:\n",
    "            assert state[self.board.ep_square] == 0\n",
    "            state[self.board.ep_square] = 41\n",
    "        \n",
    "        state = state.reshape(8,8)\n",
    "        \n",
    "        binary_state = np.zeros((5,8,8))\n",
    "        \n",
    "        binary_state[0] = (state>>3)&1\n",
    "        binary_state[1] = (state>>2)&1\n",
    "        binary_state[2] = (state>>1)&1\n",
    "        binary_state[3] = (state>>0)&1\n",
    "        binary_state[4] = (self.board.turn*1.0)\n",
    "        \n",
    "        return binary_state\n",
    "    \n",
    "    def moves(self):\n",
    "        \n",
    "        return list(self.board.legal_moves)\n",
    "        \n",
    "        \n",
    "    def state_features(self):\n",
    "        \n",
    "        feature_list = [self.board.board_fen(),self.board.turn, self.board.castling_rights, self.board.ep_square]\n",
    "    \n",
    "        return info_list\n",
    "    "
   ]
  },
  {
   "cell_type": "code",
   "execution_count": 38,
   "metadata": {},
   "outputs": [],
   "source": [
    "#print(StateBoard().serialize())"
   ]
  },
  {
   "cell_type": "code",
   "execution_count": null,
   "metadata": {},
   "outputs": [],
   "source": []
  },
  {
   "cell_type": "code",
   "execution_count": null,
   "metadata": {},
   "outputs": [],
   "source": []
  }
 ],
 "metadata": {
  "kernelspec": {
   "display_name": "Python 3",
   "language": "python",
   "name": "python3"
  },
  "language_info": {
   "codemirror_mode": {
    "name": "ipython",
    "version": 3
   },
   "file_extension": ".py",
   "mimetype": "text/x-python",
   "name": "python",
   "nbconvert_exporter": "python",
   "pygments_lexer": "ipython3",
   "version": "3.7.3"
  }
 },
 "nbformat": 4,
 "nbformat_minor": 2
}
