{
 "cells": [
  {
   "cell_type": "code",
   "execution_count": null,
   "metadata": {},
   "outputs": [],
   "source": [
    "import import_ipynb\n",
    "from BoardState import StateBoard\n",
    "import chess.pgn\n",
    "import numpy as np\n",
    "import os\n",
    "import pandas as pd"
   ]
  },
  {
   "cell_type": "code",
   "execution_count": null,
   "metadata": {},
   "outputs": [],
   "source": [
    "def generate_training_dataset(num_games=None):\n",
    "    \n",
    "    df = pd.DataFrame(columns=[\"Bit Board\", \"Result\"])\n",
    "    \n",
    "    game_num = 0\n",
    "    result_vals = {'1/2-1/2':0, '0-1': -1, '1-0': 1}\n",
    "    \n",
    "    for file in os.listdir(\"GameData\"):\n",
    "        \n",
    "        parsed_pgn = open(os.path.join(\"GameData\", file))\n",
    "        \n",
    "        while True:\n",
    "            \n",
    "            game = chess.pgn.read_game(parsed_pgn)\n",
    "\n",
    "            if game is None:\n",
    "                break\n",
    "\n",
    "            result = game.headers['Result']\n",
    "            if result not in result_vals:\n",
    "                continue\n",
    "            board = game.board()\n",
    "            res_val = result_vals[result]\n",
    "\n",
    "            for move in game.mainline_moves():\n",
    "                board.push(move)\n",
    "                bitBoard = StateBoard(board).serialize()\n",
    "\n",
    "                df.loc[game_num] = [bitBoard, res_val]\n",
    "\n",
    "            if num_games is not None and len(df.index):\n",
    "                return df\n",
    "\n",
    "            game_num += 1\n",
    "            \n",
    "    return df"
   ]
  },
  {
   "cell_type": "code",
   "execution_count": null,
   "metadata": {},
   "outputs": [],
   "source": []
  },
  {
   "cell_type": "code",
   "execution_count": null,
   "metadata": {},
   "outputs": [],
   "source": []
  },
  {
   "cell_type": "code",
   "execution_count": null,
   "metadata": {},
   "outputs": [],
   "source": []
  }
 ],
 "metadata": {
  "kernelspec": {
   "display_name": "Python 3",
   "language": "python",
   "name": "python3"
  },
  "language_info": {
   "codemirror_mode": {
    "name": "ipython",
    "version": 3
   },
   "file_extension": ".py",
   "mimetype": "text/x-python",
   "name": "python",
   "nbconvert_exporter": "python",
   "pygments_lexer": "ipython3",
   "version": "3.7.3"
  }
 },
 "nbformat": 4,
 "nbformat_minor": 2
}
